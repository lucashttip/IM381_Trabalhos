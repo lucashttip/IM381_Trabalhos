{
 "cells": [
  {
   "cell_type": "markdown",
   "metadata": {},
   "source": [
    "# 1. Encontrar a solução analítica do problema\n",
    "\n",
    "$$\n",
    "P_0\\left\\{\\begin{matrix}\n",
    "E\\frac{d}{dx}\\left( A(x)\\frac{du(x)}{dx}\\right ) = - p(x) = -p_0  \\quad \\ x \\in [0, L]\\\\ \n",
    "\\mathrm{sujeito \\ a:}\\\\ \n",
    "u(0) = 0\\\\ \n",
    "u(L) = 0\n",
    "\\end{matrix}\\right.\n",
    "$$"
   ]
  },
  {
   "cell_type": "code",
   "execution_count": 1,
   "metadata": {},
   "outputs": [],
   "source": [
    "from sympy import *"
   ]
  },
  {
   "cell_type": "code",
   "execution_count": 2,
   "metadata": {},
   "outputs": [],
   "source": [
    "## Definindo as variaveis simbolicas\n",
    "x, L, p0, E, A0, C1, C2 = symbols('x L p0 E A0 C1 C2')"
   ]
  },
  {
   "cell_type": "code",
   "execution_count": 3,
   "metadata": {},
   "outputs": [
    {
     "data": {
      "text/latex": [
       "$\\displaystyle \\frac{C_{1} - p_{0} x}{A_{0} E \\left(3 - \\frac{2 x}{L}\\right)}$"
      ],
      "text/plain": [
       "(C1 - p0*x)/(A0*E*(3 - 2*x/L))"
      ]
     },
     "execution_count": 3,
     "metadata": {},
     "output_type": "execute_result"
    }
   ],
   "source": [
    "# Definindo a deformação\n",
    "epsilon = (-p0*x + C1)/(E*A0*(3-(2*x/L)))\n",
    "epsilon"
   ]
  },
  {
   "cell_type": "code",
   "execution_count": 4,
   "metadata": {},
   "outputs": [],
   "source": [
    "# Obtendo a expressão da integral da deformação com as contantes\n",
    "u = integrate(epsilon,x) + C2"
   ]
  },
  {
   "cell_type": "code",
   "execution_count": 5,
   "metadata": {},
   "outputs": [
    {
     "data": {
      "text/latex": [
       "$\\displaystyle C_{2} + \\frac{L \\left(- 2 C_{1} + 3 L p_{0}\\right) \\log{\\left(- 3 L \\right)}}{4 A_{0} E}$"
      ],
      "text/plain": [
       "C2 + L*(-2*C1 + 3*L*p0)*log(-3*L)/(4*A0*E)"
      ]
     },
     "metadata": {},
     "output_type": "display_data"
    },
    {
     "data": {
      "text/latex": [
       "$\\displaystyle C_{2} + \\frac{L^{2} p_{0}}{2 A_{0} E} + \\frac{L \\left(- 2 C_{1} + 3 L p_{0}\\right) \\log{\\left(- L \\right)}}{4 A_{0} E}$"
      ],
      "text/plain": [
       "C2 + L**2*p0/(2*A0*E) + L*(-2*C1 + 3*L*p0)*log(-L)/(4*A0*E)"
      ]
     },
     "metadata": {},
     "output_type": "display_data"
    }
   ],
   "source": [
    "# Obtendo as equações das condições de contorno para calcular as constantes\n",
    "eq1 = u.subs(x,0)\n",
    "eq2 = u.subs(x,L)\n",
    "display(eq1)\n",
    "display(eq2)"
   ]
  },
  {
   "cell_type": "code",
   "execution_count": 6,
   "metadata": {},
   "outputs": [
    {
     "data": {
      "text/latex": [
       "$\\displaystyle \\left( - \\frac{L p_{0}}{\\log{\\left(3 \\right)}} + \\frac{3 L p_{0}}{2}, \\  - \\frac{L^{2} p_{0} \\log{\\left(- L \\right)}}{2 A_{0} E \\log{\\left(3 \\right)}} - \\frac{L^{2} p_{0}}{2 A_{0} E}\\right)$"
      ],
      "text/plain": [
       "(-L*p0/log(3) + 3*L*p0/2, -L**2*p0*log(-L)/(2*A0*E*log(3)) - L**2*p0/(2*A0*E))"
      ]
     },
     "execution_count": 6,
     "metadata": {},
     "output_type": "execute_result"
    }
   ],
   "source": [
    "# Calculando as constantes\n",
    "c = list(linsolve([eq1,eq2],(C1,C2)))[0]\n",
    "c"
   ]
  },
  {
   "cell_type": "code",
   "execution_count": 7,
   "metadata": {},
   "outputs": [
    {
     "data": {
      "text/latex": [
       "$\\displaystyle - \\frac{L^{2} p_{0} \\log{\\left(- L \\right)}}{2 A_{0} E \\log{\\left(3 \\right)}} + \\frac{L^{2} p_{0} \\log{\\left(- 3 L + 2 x \\right)}}{2 A_{0} E \\log{\\left(3 \\right)}} - \\frac{L^{2} p_{0}}{2 A_{0} E} + \\frac{L p_{0} x}{2 A_{0} E}$"
      ],
      "text/plain": [
       "-L**2*p0*log(-L)/(2*A0*E*log(3)) + L**2*p0*log(-3*L + 2*x)/(2*A0*E*log(3)) - L**2*p0/(2*A0*E) + L*p0*x/(2*A0*E)"
      ]
     },
     "execution_count": 7,
     "metadata": {},
     "output_type": "execute_result"
    }
   ],
   "source": [
    "# Obtenso a solução analítica\n",
    "U = u.subs([(C1, c[0]),(C2,c[1])])\n",
    "U"
   ]
  },
  {
   "cell_type": "code",
   "execution_count": 8,
   "metadata": {},
   "outputs": [
    {
     "data": {
      "text/latex": [
       "$\\displaystyle \\frac{- \\frac{L p_{0}}{\\log{\\left(3 \\right)}} + \\frac{3 L p_{0}}{2} - p_{0} x}{A_{0} E \\left(3 - \\frac{2 x}{L}\\right)}$"
      ],
      "text/plain": [
       "(-L*p0/log(3) + 3*L*p0/2 - p0*x)/(A0*E*(3 - 2*x/L))"
      ]
     },
     "execution_count": 8,
     "metadata": {},
     "output_type": "execute_result"
    }
   ],
   "source": [
    "# Expressão da deformação\n",
    "epsilon.subs(C1,c[0])"
   ]
  }
 ],
 "metadata": {
  "interpreter": {
   "hash": "8003219c8c57211ee3be347d121ba14ebad7276cdae3d94be72d9e4e17f9edd5"
  },
  "kernelspec": {
   "display_name": "Python 3.8.8 64-bit ('base': conda)",
   "name": "python3"
  },
  "language_info": {
   "codemirror_mode": {
    "name": "ipython",
    "version": 3
   },
   "file_extension": ".py",
   "mimetype": "text/x-python",
   "name": "python",
   "nbconvert_exporter": "python",
   "pygments_lexer": "ipython3",
   "version": "3.8.8"
  },
  "orig_nbformat": 4
 },
 "nbformat": 4,
 "nbformat_minor": 2
}
