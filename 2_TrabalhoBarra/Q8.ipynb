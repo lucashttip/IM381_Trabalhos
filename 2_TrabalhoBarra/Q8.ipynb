{
 "cells": [
  {
   "cell_type": "markdown",
   "metadata": {},
   "source": [
    "## 8. Determinar o sistema de equações para o elemento finito de 3 nós com aproximação quadrática usando o espaço isoparamétrico definido entre [-1,1]. Calcular as Matrizes de Rigidez e vetor de carga nodal equivalente."
   ]
  },
  {
   "cell_type": "code",
   "execution_count": 1,
   "metadata": {},
   "outputs": [],
   "source": [
    "from sympy import *"
   ]
  },
  {
   "cell_type": "code",
   "execution_count": 2,
   "metadata": {},
   "outputs": [],
   "source": [
    "## Definindo as variaveis simbolicas\n",
    "x, L, Le, x1, x2, x3, E, A0, xi = symbols('x L L_E x_1 x_2 x_3 E A_0 xi')"
   ]
  },
  {
   "cell_type": "code",
   "execution_count": 3,
   "metadata": {},
   "outputs": [],
   "source": [
    "# função auxiliar\n",
    "def gcdfront(A):\n",
    "    g = gcd(tuple(A))\n",
    "\n",
    "    A_v2 = MatMul(g,(A/g),evaluate = False)\n",
    "    \n",
    "    return A_v2\n"
   ]
  },
  {
   "cell_type": "code",
   "execution_count": 4,
   "metadata": {},
   "outputs": [],
   "source": [
    "# Definindo vetores\n",
    "F1 = lambda xi: [1, xi, xi**2]\n",
    "xarr = Matrix([x1, x2, x3])"
   ]
  },
  {
   "cell_type": "code",
   "execution_count": 5,
   "metadata": {},
   "outputs": [
    {
     "data": {
      "text/latex": [
       "$\\displaystyle \\left[\\begin{matrix}1 & -1 & 1\\\\1 & 0 & 0\\\\1 & 1 & 1\\end{matrix}\\right]$"
      ],
      "text/plain": [
       "Matrix([\n",
       "[1, -1, 1],\n",
       "[1,  0, 0],\n",
       "[1,  1, 1]])"
      ]
     },
     "execution_count": 5,
     "metadata": {},
     "output_type": "execute_result"
    }
   ],
   "source": [
    "#isoparametrico de -1 a 1\n",
    "A = Matrix((F1(-1), F1(0), F1(1)))\n",
    "\n",
    "A\n",
    "# print(latex(A))"
   ]
  },
  {
   "cell_type": "code",
   "execution_count": 6,
   "metadata": {},
   "outputs": [
    {
     "data": {
      "text/latex": [
       "$\\displaystyle \\left[\\begin{matrix}0 & 1 & 0\\\\- \\frac{1}{2} & 0 & \\frac{1}{2}\\\\\\frac{1}{2} & -1 & \\frac{1}{2}\\end{matrix}\\right]$"
      ],
      "text/plain": [
       "Matrix([\n",
       "[   0,  1,   0],\n",
       "[-1/2,  0, 1/2],\n",
       "[ 1/2, -1, 1/2]])"
      ]
     },
     "execution_count": 6,
     "metadata": {},
     "output_type": "execute_result"
    }
   ],
   "source": [
    "B = A.inv()\n",
    "B\n",
    "# print(latex(B))"
   ]
  },
  {
   "cell_type": "code",
   "execution_count": 7,
   "metadata": {},
   "outputs": [
    {
     "data": {
      "text/latex": [
       "$\\displaystyle \\left[\\begin{matrix}\\frac{\\xi^{2}}{2} - \\frac{\\xi}{2} & 1 - \\xi^{2} & \\frac{\\xi^{2}}{2} + \\frac{\\xi}{2}\\end{matrix}\\right]$"
      ],
      "text/plain": [
       "Matrix([[xi**2/2 - xi/2, 1 - xi**2, xi**2/2 + xi/2]])"
      ]
     },
     "execution_count": 7,
     "metadata": {},
     "output_type": "execute_result"
    }
   ],
   "source": [
    "# Funções de forma\n",
    "Nm = Matrix([1, xi, xi**2]).transpose()*B\n",
    "Nm\n",
    "# print(latex(Nm))"
   ]
  },
  {
   "cell_type": "code",
   "execution_count": 11,
   "metadata": {},
   "outputs": [
    {
     "data": {
      "text/latex": [
       "$\\displaystyle \\left[\\begin{matrix}\\xi^{2} - \\xi + \\frac{1}{4} & - 2 \\xi^{2} + \\xi & \\xi^{2} - \\frac{1}{4}\\\\- 2 \\xi^{2} + \\xi & 4 \\xi^{2} & - 2 \\xi^{2} - \\xi\\\\\\xi^{2} - \\frac{1}{4} & - 2 \\xi^{2} - \\xi & \\xi^{2} + \\xi + \\frac{1}{4}\\end{matrix}\\right]$"
      ],
      "text/plain": [
       "Matrix([\n",
       "[xi**2 - xi + 1/4, -2*xi**2 + xi,      xi**2 - 1/4],\n",
       "[   -2*xi**2 + xi,       4*xi**2,    -2*xi**2 - xi],\n",
       "[     xi**2 - 1/4, -2*xi**2 - xi, xi**2 + xi + 1/4]])"
      ]
     },
     "execution_count": 11,
     "metadata": {},
     "output_type": "execute_result"
    }
   ],
   "source": [
    "# Matriz M\n",
    "M1 = Nm.diff(xi).transpose()*Nm.diff(xi)\n",
    "M = expand(M1)\n",
    "M\n",
    "# print(latex(M))"
   ]
  },
  {
   "cell_type": "code",
   "execution_count": 12,
   "metadata": {},
   "outputs": [
    {
     "data": {
      "text/latex": [
       "$\\displaystyle \\left[\\begin{matrix}\\frac{7}{6} & - \\frac{4}{3} & \\frac{1}{6}\\\\- \\frac{4}{3} & \\frac{8}{3} & - \\frac{4}{3}\\\\\\frac{1}{6} & - \\frac{4}{3} & \\frac{7}{6}\\end{matrix}\\right]$"
      ],
      "text/plain": [
       "Matrix([\n",
       "[ 7/6, -4/3,  1/6],\n",
       "[-4/3,  8/3, -4/3],\n",
       "[ 1/6, -4/3,  7/6]])"
      ]
     },
     "execution_count": 12,
     "metadata": {},
     "output_type": "execute_result"
    }
   ],
   "source": [
    "# Integral matriz M\n",
    "intM1 = integrate(M1,(xi,-1,1))\n",
    "intM1\n",
    "# print(latex(intM))"
   ]
  },
  {
   "cell_type": "code",
   "execution_count": 13,
   "metadata": {},
   "outputs": [
    {
     "data": {
      "text/latex": [
       "$\\displaystyle \\left[\\begin{matrix}\\left(\\xi - \\frac{1}{2}\\right)^{2} \\left(x_{1} \\left(\\frac{\\xi^{2}}{2} - \\frac{\\xi}{2}\\right) + x_{2} \\left(1 - \\xi^{2}\\right) + x_{3} \\left(\\frac{\\xi^{2}}{2} + \\frac{\\xi}{2}\\right)\\right) & - 2 \\xi \\left(\\xi - \\frac{1}{2}\\right) \\left(x_{1} \\left(\\frac{\\xi^{2}}{2} - \\frac{\\xi}{2}\\right) + x_{2} \\left(1 - \\xi^{2}\\right) + x_{3} \\left(\\frac{\\xi^{2}}{2} + \\frac{\\xi}{2}\\right)\\right) & \\left(\\xi - \\frac{1}{2}\\right) \\left(\\xi + \\frac{1}{2}\\right) \\left(x_{1} \\left(\\frac{\\xi^{2}}{2} - \\frac{\\xi}{2}\\right) + x_{2} \\left(1 - \\xi^{2}\\right) + x_{3} \\left(\\frac{\\xi^{2}}{2} + \\frac{\\xi}{2}\\right)\\right)\\\\- 2 \\xi \\left(\\xi - \\frac{1}{2}\\right) \\left(x_{1} \\left(\\frac{\\xi^{2}}{2} - \\frac{\\xi}{2}\\right) + x_{2} \\left(1 - \\xi^{2}\\right) + x_{3} \\left(\\frac{\\xi^{2}}{2} + \\frac{\\xi}{2}\\right)\\right) & 4 \\xi^{2} \\left(x_{1} \\left(\\frac{\\xi^{2}}{2} - \\frac{\\xi}{2}\\right) + x_{2} \\left(1 - \\xi^{2}\\right) + x_{3} \\left(\\frac{\\xi^{2}}{2} + \\frac{\\xi}{2}\\right)\\right) & - 2 \\xi \\left(\\xi + \\frac{1}{2}\\right) \\left(x_{1} \\left(\\frac{\\xi^{2}}{2} - \\frac{\\xi}{2}\\right) + x_{2} \\left(1 - \\xi^{2}\\right) + x_{3} \\left(\\frac{\\xi^{2}}{2} + \\frac{\\xi}{2}\\right)\\right)\\\\\\left(\\xi - \\frac{1}{2}\\right) \\left(\\xi + \\frac{1}{2}\\right) \\left(x_{1} \\left(\\frac{\\xi^{2}}{2} - \\frac{\\xi}{2}\\right) + x_{2} \\left(1 - \\xi^{2}\\right) + x_{3} \\left(\\frac{\\xi^{2}}{2} + \\frac{\\xi}{2}\\right)\\right) & - 2 \\xi \\left(\\xi + \\frac{1}{2}\\right) \\left(x_{1} \\left(\\frac{\\xi^{2}}{2} - \\frac{\\xi}{2}\\right) + x_{2} \\left(1 - \\xi^{2}\\right) + x_{3} \\left(\\frac{\\xi^{2}}{2} + \\frac{\\xi}{2}\\right)\\right) & \\left(\\xi + \\frac{1}{2}\\right)^{2} \\left(x_{1} \\left(\\frac{\\xi^{2}}{2} - \\frac{\\xi}{2}\\right) + x_{2} \\left(1 - \\xi^{2}\\right) + x_{3} \\left(\\frac{\\xi^{2}}{2} + \\frac{\\xi}{2}\\right)\\right)\\end{matrix}\\right]$"
      ],
      "text/plain": [
       "Matrix([\n",
       "[        (xi - 1/2)**2*(x_1*(xi**2/2 - xi/2) + x_2*(1 - xi**2) + x_3*(xi**2/2 + xi/2)), -2*xi*(xi - 1/2)*(x_1*(xi**2/2 - xi/2) + x_2*(1 - xi**2) + x_3*(xi**2/2 + xi/2)), (xi - 1/2)*(xi + 1/2)*(x_1*(xi**2/2 - xi/2) + x_2*(1 - xi**2) + x_3*(xi**2/2 + xi/2))],\n",
       "[     -2*xi*(xi - 1/2)*(x_1*(xi**2/2 - xi/2) + x_2*(1 - xi**2) + x_3*(xi**2/2 + xi/2)),          4*xi**2*(x_1*(xi**2/2 - xi/2) + x_2*(1 - xi**2) + x_3*(xi**2/2 + xi/2)),      -2*xi*(xi + 1/2)*(x_1*(xi**2/2 - xi/2) + x_2*(1 - xi**2) + x_3*(xi**2/2 + xi/2))],\n",
       "[(xi - 1/2)*(xi + 1/2)*(x_1*(xi**2/2 - xi/2) + x_2*(1 - xi**2) + x_3*(xi**2/2 + xi/2)), -2*xi*(xi + 1/2)*(x_1*(xi**2/2 - xi/2) + x_2*(1 - xi**2) + x_3*(xi**2/2 + xi/2)),         (xi + 1/2)**2*(x_1*(xi**2/2 - xi/2) + x_2*(1 - xi**2) + x_3*(xi**2/2 + xi/2))]])"
      ]
     },
     "execution_count": 13,
     "metadata": {},
     "output_type": "execute_result"
    }
   ],
   "source": [
    "#Matriz Nm*xarr*M\n",
    "M2 = (Nm*xarr)[0]*M1\n",
    "M2"
   ]
  },
  {
   "cell_type": "code",
   "execution_count": 14,
   "metadata": {},
   "outputs": [
    {
     "data": {
      "text/latex": [
       "$\\displaystyle \\left[\\begin{matrix}\\frac{37 x_{1}}{60} + \\frac{3 x_{2}}{5} - \\frac{x_{3}}{20} & - \\frac{11 x_{1}}{15} - \\frac{8 x_{2}}{15} - \\frac{x_{3}}{15} & \\frac{7 x_{1}}{60} - \\frac{x_{2}}{15} + \\frac{7 x_{3}}{60}\\\\- \\frac{11 x_{1}}{15} - \\frac{8 x_{2}}{15} - \\frac{x_{3}}{15} & \\frac{4 x_{1}}{5} + \\frac{16 x_{2}}{15} + \\frac{4 x_{3}}{5} & - \\frac{x_{1}}{15} - \\frac{8 x_{2}}{15} - \\frac{11 x_{3}}{15}\\\\\\frac{7 x_{1}}{60} - \\frac{x_{2}}{15} + \\frac{7 x_{3}}{60} & - \\frac{x_{1}}{15} - \\frac{8 x_{2}}{15} - \\frac{11 x_{3}}{15} & - \\frac{x_{1}}{20} + \\frac{3 x_{2}}{5} + \\frac{37 x_{3}}{60}\\end{matrix}\\right]$"
      ],
      "text/plain": [
       "Matrix([\n",
       "[  37*x_1/60 + 3*x_2/5 - x_3/20, -11*x_1/15 - 8*x_2/15 - x_3/15,   7*x_1/60 - x_2/15 + 7*x_3/60],\n",
       "[-11*x_1/15 - 8*x_2/15 - x_3/15,  4*x_1/5 + 16*x_2/15 + 4*x_3/5, -x_1/15 - 8*x_2/15 - 11*x_3/15],\n",
       "[  7*x_1/60 - x_2/15 + 7*x_3/60, -x_1/15 - 8*x_2/15 - 11*x_3/15,  -x_1/20 + 3*x_2/5 + 37*x_3/60]])"
      ]
     },
     "execution_count": 14,
     "metadata": {},
     "output_type": "execute_result"
    }
   ],
   "source": [
    "intM2 = simplify(integrate(M2,(xi,-1,1)))\n",
    "intM2\n",
    "# print(latex(intM2))"
   ]
  },
  {
   "cell_type": "code",
   "execution_count": 15,
   "metadata": {},
   "outputs": [
    {
     "data": {
      "text/latex": [
       "$\\displaystyle \\left[\\begin{matrix}\\frac{A_{0} E \\left(105 L - 37 x_{1} - 36 x_{2} + 3 x_{3}\\right)}{15 L L_{E}} & \\frac{4 A_{0} E \\left(- 30 L + 11 x_{1} + 8 x_{2} + x_{3}\\right)}{15 L L_{E}} & \\frac{A_{0} E \\left(15 L - 7 x_{1} + 4 x_{2} - 7 x_{3}\\right)}{15 L L_{E}}\\\\\\frac{4 A_{0} E \\left(- 30 L + 11 x_{1} + 8 x_{2} + x_{3}\\right)}{15 L L_{E}} & \\frac{16 A_{0} E \\left(15 L - 3 x_{1} - 4 x_{2} - 3 x_{3}\\right)}{15 L L_{E}} & \\frac{4 A_{0} E \\left(- 30 L + x_{1} + 8 x_{2} + 11 x_{3}\\right)}{15 L L_{E}}\\\\\\frac{A_{0} E \\left(15 L - 7 x_{1} + 4 x_{2} - 7 x_{3}\\right)}{15 L L_{E}} & \\frac{4 A_{0} E \\left(- 30 L + x_{1} + 8 x_{2} + 11 x_{3}\\right)}{15 L L_{E}} & \\frac{A_{0} E \\left(105 L + 3 x_{1} - 36 x_{2} - 37 x_{3}\\right)}{15 L L_{E}}\\end{matrix}\\right]$"
      ],
      "text/plain": [
       "Matrix([\n",
       "[A_0*E*(105*L - 37*x_1 - 36*x_2 + 3*x_3)/(15*L*L_E),  4*A_0*E*(-30*L + 11*x_1 + 8*x_2 + x_3)/(15*L*L_E),    A_0*E*(15*L - 7*x_1 + 4*x_2 - 7*x_3)/(15*L*L_E)],\n",
       "[ 4*A_0*E*(-30*L + 11*x_1 + 8*x_2 + x_3)/(15*L*L_E), 16*A_0*E*(15*L - 3*x_1 - 4*x_2 - 3*x_3)/(15*L*L_E),  4*A_0*E*(-30*L + x_1 + 8*x_2 + 11*x_3)/(15*L*L_E)],\n",
       "[   A_0*E*(15*L - 7*x_1 + 4*x_2 - 7*x_3)/(15*L*L_E),  4*A_0*E*(-30*L + x_1 + 8*x_2 + 11*x_3)/(15*L*L_E), A_0*E*(105*L + 3*x_1 - 36*x_2 - 37*x_3)/(15*L*L_E)]])"
      ]
     },
     "execution_count": 15,
     "metadata": {},
     "output_type": "execute_result"
    }
   ],
   "source": [
    "# Calculo da matriz de rigidez\n",
    "t1 = (6*E*A0/Le)*intM1\n",
    "t2 = (4*E*A0/(L*Le))*intM2\n",
    "K1 = simplify(t1-t2)\n",
    "K1"
   ]
  },
  {
   "cell_type": "code",
   "execution_count": 16,
   "metadata": {},
   "outputs": [
    {
     "data": {
      "text/latex": [
       "$\\displaystyle A_{0} E \\frac{1}{L_{E}} \\left[\\begin{matrix}\\frac{105 L - 37 x_{1} - 36 x_{2} + 3 x_{3}}{15 L} & \\frac{4 \\left(- 30 L + 11 x_{1} + 8 x_{2} + x_{3}\\right)}{15 L} & \\frac{15 L - 7 x_{1} + 4 x_{2} - 7 x_{3}}{15 L}\\\\\\frac{4 \\left(- 30 L + 11 x_{1} + 8 x_{2} + x_{3}\\right)}{15 L} & \\frac{16 \\left(15 L - 3 x_{1} - 4 x_{2} - 3 x_{3}\\right)}{15 L} & \\frac{4 \\left(- 30 L + x_{1} + 8 x_{2} + 11 x_{3}\\right)}{15 L}\\\\\\frac{15 L - 7 x_{1} + 4 x_{2} - 7 x_{3}}{15 L} & \\frac{4 \\left(- 30 L + x_{1} + 8 x_{2} + 11 x_{3}\\right)}{15 L} & \\frac{105 L + 3 x_{1} - 36 x_{2} - 37 x_{3}}{15 L}\\end{matrix}\\right]$"
      ],
      "text/plain": [
       "(A_0*E/L_E)*Matrix([\n",
       "[(105*L - 37*x_1 - 36*x_2 + 3*x_3)/(15*L),  4*(-30*L + 11*x_1 + 8*x_2 + x_3)/(15*L),    (15*L - 7*x_1 + 4*x_2 - 7*x_3)/(15*L)],\n",
       "[ 4*(-30*L + 11*x_1 + 8*x_2 + x_3)/(15*L), 16*(15*L - 3*x_1 - 4*x_2 - 3*x_3)/(15*L),  4*(-30*L + x_1 + 8*x_2 + 11*x_3)/(15*L)],\n",
       "[   (15*L - 7*x_1 + 4*x_2 - 7*x_3)/(15*L),  4*(-30*L + x_1 + 8*x_2 + 11*x_3)/(15*L), (105*L + 3*x_1 - 36*x_2 - 37*x_3)/(15*L)]])"
      ]
     },
     "execution_count": 16,
     "metadata": {},
     "output_type": "execute_result"
    }
   ],
   "source": [
    "# Colocando termos em evidencia\n",
    "K = gcdfront(K1)\n",
    "K\n",
    "# print(latex(K))"
   ]
  },
  {
   "cell_type": "code",
   "execution_count": 17,
   "metadata": {},
   "outputs": [
    {
     "data": {
      "text/latex": [
       "$\\displaystyle \\left[\\begin{matrix}\\frac{1}{3}\\\\\\frac{4}{3}\\\\\\frac{1}{3}\\end{matrix}\\right]$"
      ],
      "text/plain": [
       "Matrix([\n",
       "[1/3],\n",
       "[4/3],\n",
       "[1/3]])"
      ]
     },
     "execution_count": 17,
     "metadata": {},
     "output_type": "execute_result"
    }
   ],
   "source": [
    "# Vetor de carga Rb sem constantes\n",
    "Rb = integrate(Nm,(xi,-1,1)).transpose()\n",
    "Rb\n",
    "# print(latex(Rb))"
   ]
  }
 ],
 "metadata": {
  "interpreter": {
   "hash": "8003219c8c57211ee3be347d121ba14ebad7276cdae3d94be72d9e4e17f9edd5"
  },
  "kernelspec": {
   "display_name": "Python 3.8.8 64-bit ('base': conda)",
   "name": "python3"
  },
  "language_info": {
   "codemirror_mode": {
    "name": "ipython",
    "version": 3
   },
   "file_extension": ".py",
   "mimetype": "text/x-python",
   "name": "python",
   "nbconvert_exporter": "python",
   "pygments_lexer": "ipython3",
   "version": "3.8.8"
  },
  "orig_nbformat": 4
 },
 "nbformat": 4,
 "nbformat_minor": 2
}
