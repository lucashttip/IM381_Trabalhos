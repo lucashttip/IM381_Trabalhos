{
 "cells": [
  {
   "cell_type": "markdown",
   "metadata": {},
   "source": [
    "## 9. Considere agora uma carga distribuída variando linearmente ao longo da barra, entre o valor $p(x = 0) = 0$ e $p(x = L) = p0$. Defina o vetor de carga nodal equivalente para um elemento qualquer da barra."
   ]
  },
  {
   "cell_type": "code",
   "execution_count": 1,
   "metadata": {},
   "outputs": [],
   "source": [
    "from sympy import *"
   ]
  },
  {
   "cell_type": "code",
   "execution_count": 2,
   "metadata": {},
   "outputs": [],
   "source": [
    "## Definindo as variaveis simbolicas\n",
    "x, L, Le, x1, x2, x3, E, A0, xi, p0 = symbols('x L L_E x_1 x_2 x_3 E A_0 xi p_0')"
   ]
  },
  {
   "cell_type": "code",
   "execution_count": 3,
   "metadata": {},
   "outputs": [],
   "source": [
    "# Função auxiliar\n",
    "def gcdfront(A):\n",
    "    g = gcd(tuple(A))\n",
    "\n",
    "    A_v2 = MatMul(g,(A/g),evaluate = False)\n",
    "    \n",
    "    return A_v2"
   ]
  },
  {
   "cell_type": "code",
   "execution_count": 4,
   "metadata": {},
   "outputs": [],
   "source": [
    "F1 = lambda x: [1, x]\n",
    "F3 = lambda xi: [1, xi, xi**2]\n",
    "xarr = Matrix([x1, x2])\n",
    "xarr3 = Matrix([x1, x2, x3])"
   ]
  },
  {
   "cell_type": "code",
   "execution_count": 7,
   "metadata": {},
   "outputs": [
    {
     "data": {
      "text/latex": [
       "$\\displaystyle \\left[\\begin{matrix}1 & 0\\\\1 & L_{E}\\end{matrix}\\right]$"
      ],
      "text/plain": [
       "Matrix([\n",
       "[1,   0],\n",
       "[1, L_E]])"
      ]
     },
     "metadata": {},
     "output_type": "display_data"
    },
    {
     "data": {
      "text/latex": [
       "$\\displaystyle \\left[\\begin{matrix}1 & -1 & 1\\\\1 & 0 & 0\\\\1 & 1 & 1\\end{matrix}\\right]$"
      ],
      "text/plain": [
       "Matrix([\n",
       "[1, -1, 1],\n",
       "[1,  0, 0],\n",
       "[1,  1, 1]])"
      ]
     },
     "metadata": {},
     "output_type": "display_data"
    }
   ],
   "source": [
    "# isoparametrico de 0 a Le\n",
    "A = Matrix((F1(0), F1(Le)))\n",
    "\n",
    "#isoparametrico de -1 a 1\n",
    "A3 = Matrix((F3(-1), F3(0), F3(1)))\n",
    "\n",
    "display(A, A3)\n",
    "# print(latex(A))"
   ]
  },
  {
   "cell_type": "code",
   "execution_count": 8,
   "metadata": {},
   "outputs": [
    {
     "data": {
      "text/latex": [
       "$\\displaystyle \\left[\\begin{matrix}1 & 0\\\\- \\frac{1}{L_{E}} & \\frac{1}{L_{E}}\\end{matrix}\\right]$"
      ],
      "text/plain": [
       "Matrix([\n",
       "[     1,     0],\n",
       "[-1/L_E, 1/L_E]])"
      ]
     },
     "metadata": {},
     "output_type": "display_data"
    },
    {
     "data": {
      "text/latex": [
       "$\\displaystyle \\left[\\begin{matrix}0 & 1 & 0\\\\- \\frac{1}{2} & 0 & \\frac{1}{2}\\\\\\frac{1}{2} & -1 & \\frac{1}{2}\\end{matrix}\\right]$"
      ],
      "text/plain": [
       "Matrix([\n",
       "[   0,  1,   0],\n",
       "[-1/2,  0, 1/2],\n",
       "[ 1/2, -1, 1/2]])"
      ]
     },
     "metadata": {},
     "output_type": "display_data"
    }
   ],
   "source": [
    "B = A.inv()\n",
    "B3 = A3.inv()\n",
    "display(B,B3)\n",
    "# print(latex(B))"
   ]
  },
  {
   "cell_type": "code",
   "execution_count": 9,
   "metadata": {},
   "outputs": [
    {
     "data": {
      "text/latex": [
       "$\\displaystyle \\left[\\begin{matrix}1 - \\frac{x}{L_{E}} & \\frac{x}{L_{E}}\\end{matrix}\\right]$"
      ],
      "text/plain": [
       "Matrix([[1 - x/L_E, x/L_E]])"
      ]
     },
     "metadata": {},
     "output_type": "display_data"
    },
    {
     "data": {
      "text/latex": [
       "$\\displaystyle \\left[\\begin{matrix}\\frac{\\xi^{2}}{2} - \\frac{\\xi}{2} & 1 - \\xi^{2} & \\frac{\\xi^{2}}{2} + \\frac{\\xi}{2}\\end{matrix}\\right]$"
      ],
      "text/plain": [
       "Matrix([[xi**2/2 - xi/2, 1 - xi**2, xi**2/2 + xi/2]])"
      ]
     },
     "metadata": {},
     "output_type": "display_data"
    }
   ],
   "source": [
    "# Funções de forma\n",
    "Nm = Matrix([1, x]).transpose()*B\n",
    "Nm3 = Matrix([1, xi, xi**2]).transpose()*B3\n",
    "\n",
    "display(Nm)\n",
    "display(Nm3)\n",
    "# print(latex(Nm))"
   ]
  },
  {
   "cell_type": "code",
   "execution_count": 10,
   "metadata": {},
   "outputs": [
    {
     "data": {
      "text/latex": [
       "$\\displaystyle \\left[\\begin{matrix}\\left(1 - \\frac{x}{L_{E}}\\right) \\left(x_{1} \\left(1 - \\frac{x}{L_{E}}\\right) + \\frac{x x_{2}}{L_{E}}\\right)\\\\\\frac{x \\left(x_{1} \\left(1 - \\frac{x}{L_{E}}\\right) + \\frac{x x_{2}}{L_{E}}\\right)}{L_{E}}\\end{matrix}\\right]$"
      ],
      "text/plain": [
       "Matrix([\n",
       "[(1 - x/L_E)*(x_1*(1 - x/L_E) + x*x_2/L_E)],\n",
       "[      x*(x_1*(1 - x/L_E) + x*x_2/L_E)/L_E]])"
      ]
     },
     "metadata": {},
     "output_type": "display_data"
    },
    {
     "data": {
      "text/latex": [
       "$\\displaystyle \\left[\\begin{matrix}\\left(\\frac{\\xi^{2}}{2} - \\frac{\\xi}{2}\\right) \\left(x_{1} \\left(\\frac{\\xi^{2}}{2} - \\frac{\\xi}{2}\\right) + x_{2} \\left(1 - \\xi^{2}\\right) + x_{3} \\left(\\frac{\\xi^{2}}{2} + \\frac{\\xi}{2}\\right)\\right)\\\\\\left(1 - \\xi^{2}\\right) \\left(x_{1} \\left(\\frac{\\xi^{2}}{2} - \\frac{\\xi}{2}\\right) + x_{2} \\left(1 - \\xi^{2}\\right) + x_{3} \\left(\\frac{\\xi^{2}}{2} + \\frac{\\xi}{2}\\right)\\right)\\\\\\left(\\frac{\\xi^{2}}{2} + \\frac{\\xi}{2}\\right) \\left(x_{1} \\left(\\frac{\\xi^{2}}{2} - \\frac{\\xi}{2}\\right) + x_{2} \\left(1 - \\xi^{2}\\right) + x_{3} \\left(\\frac{\\xi^{2}}{2} + \\frac{\\xi}{2}\\right)\\right)\\end{matrix}\\right]$"
      ],
      "text/plain": [
       "Matrix([\n",
       "[(xi**2/2 - xi/2)*(x_1*(xi**2/2 - xi/2) + x_2*(1 - xi**2) + x_3*(xi**2/2 + xi/2))],\n",
       "[     (1 - xi**2)*(x_1*(xi**2/2 - xi/2) + x_2*(1 - xi**2) + x_3*(xi**2/2 + xi/2))],\n",
       "[(xi**2/2 + xi/2)*(x_1*(xi**2/2 - xi/2) + x_2*(1 - xi**2) + x_3*(xi**2/2 + xi/2))]])"
      ]
     },
     "metadata": {},
     "output_type": "display_data"
    }
   ],
   "source": [
    "T = (Nm*xarr)[0]*Nm.transpose()\n",
    "T3 = (Nm3*xarr3)[0]*Nm3.transpose()\n",
    "\n",
    "display(T)\n",
    "display(T3)"
   ]
  },
  {
   "cell_type": "code",
   "execution_count": 11,
   "metadata": {},
   "outputs": [
    {
     "data": {
      "text/latex": [
       "$\\displaystyle \\left[\\begin{matrix}\\frac{L_{E} \\left(2 x_{1} + x_{2}\\right)}{6}\\\\\\frac{L_{E} \\left(x_{1} + 2 x_{2}\\right)}{6}\\end{matrix}\\right]$"
      ],
      "text/plain": [
       "Matrix([\n",
       "[L_E*(2*x_1 + x_2)/6],\n",
       "[L_E*(x_1 + 2*x_2)/6]])"
      ]
     },
     "metadata": {},
     "output_type": "display_data"
    },
    {
     "data": {
      "text/latex": [
       "$\\displaystyle \\left[\\begin{matrix}\\frac{4 x_{1}}{15} + \\frac{2 x_{2}}{15} - \\frac{x_{3}}{15}\\\\\\frac{2 x_{1}}{15} + \\frac{16 x_{2}}{15} + \\frac{2 x_{3}}{15}\\\\- \\frac{x_{1}}{15} + \\frac{2 x_{2}}{15} + \\frac{4 x_{3}}{15}\\end{matrix}\\right]$"
      ],
      "text/plain": [
       "Matrix([\n",
       "[   4*x_1/15 + 2*x_2/15 - x_3/15],\n",
       "[2*x_1/15 + 16*x_2/15 + 2*x_3/15],\n",
       "[  -x_1/15 + 2*x_2/15 + 4*x_3/15]])"
      ]
     },
     "metadata": {},
     "output_type": "display_data"
    }
   ],
   "source": [
    "# Vetores de carga\n",
    "RB = simplify(integrate(T,(x,0,Le)))\n",
    "RB3 = simplify(integrate(T3,(xi,-1,1)))\n",
    "\n",
    "display(RB)\n",
    "display(RB3)\n",
    "# print(latex(gcdfront(RB)))"
   ]
  }
 ],
 "metadata": {
  "interpreter": {
   "hash": "8003219c8c57211ee3be347d121ba14ebad7276cdae3d94be72d9e4e17f9edd5"
  },
  "kernelspec": {
   "display_name": "Python 3.8.8 64-bit ('base': conda)",
   "name": "python3"
  },
  "language_info": {
   "codemirror_mode": {
    "name": "ipython",
    "version": 3
   },
   "file_extension": ".py",
   "mimetype": "text/x-python",
   "name": "python",
   "nbconvert_exporter": "python",
   "pygments_lexer": "ipython3",
   "version": "3.8.8"
  },
  "orig_nbformat": 4
 },
 "nbformat": 4,
 "nbformat_minor": 2
}
