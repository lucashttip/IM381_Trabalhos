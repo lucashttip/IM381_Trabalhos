{
 "cells": [
  {
   "cell_type": "markdown",
   "metadata": {},
   "source": [
    "# 10. Solução analítica do problema com carga distribuida variando linearmente"
   ]
  },
  {
   "cell_type": "code",
   "execution_count": 1,
   "metadata": {},
   "outputs": [],
   "source": [
    "from sympy import *"
   ]
  },
  {
   "cell_type": "code",
   "execution_count": 2,
   "metadata": {},
   "outputs": [],
   "source": [
    "## Definindo as variaveis simbolicas\n",
    "x, L, p0, E, A0, C1, C2 = symbols('x L p0 E A0 C1 C2')"
   ]
  },
  {
   "cell_type": "code",
   "execution_count": 4,
   "metadata": {},
   "outputs": [
    {
     "data": {
      "text/latex": [
       "$\\displaystyle - \\frac{p_{0} x}{L}$"
      ],
      "text/plain": [
       "-p0*x/L"
      ]
     },
     "execution_count": 4,
     "metadata": {},
     "output_type": "execute_result"
    }
   ],
   "source": [
    "# Função da carga\n",
    "p = -(p0*x)/L\n",
    "p"
   ]
  },
  {
   "cell_type": "code",
   "execution_count": 5,
   "metadata": {},
   "outputs": [
    {
     "data": {
      "text/latex": [
       "$\\displaystyle \\frac{C_{1} - \\frac{p_{0} x^{2}}{2 L}}{A_{0} E \\left(3 - \\frac{2 x}{L}\\right)}$"
      ],
      "text/plain": [
       "(C1 - p0*x**2/(2*L))/(A0*E*(3 - 2*x/L))"
      ]
     },
     "execution_count": 5,
     "metadata": {},
     "output_type": "execute_result"
    }
   ],
   "source": [
    "# Deformação\n",
    "epsilon = (integrate(p,x) + C1)/(E*A0*(3-(2*x/L)))\n",
    "epsilon"
   ]
  },
  {
   "cell_type": "code",
   "execution_count": 6,
   "metadata": {},
   "outputs": [
    {
     "data": {
      "text/latex": [
       "$\\displaystyle C_{2} + \\frac{3 L p_{0} x}{8 A_{0} E} + \\frac{L \\left(- 8 C_{1} + 9 L p_{0}\\right) \\log{\\left(- 3 L + 2 x \\right)}}{16 A_{0} E} + \\frac{p_{0} x^{2}}{8 A_{0} E}$"
      ],
      "text/plain": [
       "C2 + 3*L*p0*x/(8*A0*E) + L*(-8*C1 + 9*L*p0)*log(-3*L + 2*x)/(16*A0*E) + p0*x**2/(8*A0*E)"
      ]
     },
     "execution_count": 6,
     "metadata": {},
     "output_type": "execute_result"
    }
   ],
   "source": [
    "u = integrate(epsilon,x) + C2\n",
    "u"
   ]
  },
  {
   "cell_type": "code",
   "execution_count": 7,
   "metadata": {},
   "outputs": [
    {
     "data": {
      "text/latex": [
       "$\\displaystyle C_{2} + \\frac{L \\left(- 8 C_{1} + 9 L p_{0}\\right) \\log{\\left(- 3 L \\right)}}{16 A_{0} E}$"
      ],
      "text/plain": [
       "C2 + L*(-8*C1 + 9*L*p0)*log(-3*L)/(16*A0*E)"
      ]
     },
     "metadata": {},
     "output_type": "display_data"
    },
    {
     "data": {
      "text/latex": [
       "$\\displaystyle C_{2} + \\frac{L^{2} p_{0}}{2 A_{0} E} + \\frac{L \\left(- 8 C_{1} + 9 L p_{0}\\right) \\log{\\left(- L \\right)}}{16 A_{0} E}$"
      ],
      "text/plain": [
       "C2 + L**2*p0/(2*A0*E) + L*(-8*C1 + 9*L*p0)*log(-L)/(16*A0*E)"
      ]
     },
     "metadata": {},
     "output_type": "display_data"
    }
   ],
   "source": [
    "eq1 = u.subs(x,0)\n",
    "eq2 = u.subs(x,L)\n",
    "display(eq1)\n",
    "display(eq2)"
   ]
  },
  {
   "cell_type": "code",
   "execution_count": 8,
   "metadata": {},
   "outputs": [
    {
     "data": {
      "text/latex": [
       "$\\displaystyle \\left( - \\frac{L p_{0}}{\\log{\\left(3 \\right)}} + \\frac{9 L p_{0}}{8}, \\  - \\frac{L^{2} p_{0} \\log{\\left(- L \\right)}}{2 A_{0} E \\log{\\left(3 \\right)}} - \\frac{L^{2} p_{0}}{2 A_{0} E}\\right)$"
      ],
      "text/plain": [
       "(-L*p0/log(3) + 9*L*p0/8, -L**2*p0*log(-L)/(2*A0*E*log(3)) - L**2*p0/(2*A0*E))"
      ]
     },
     "execution_count": 8,
     "metadata": {},
     "output_type": "execute_result"
    }
   ],
   "source": [
    "c = list(linsolve([eq1,eq2],(C1,C2)))[0]\n",
    "c"
   ]
  },
  {
   "cell_type": "code",
   "execution_count": 9,
   "metadata": {},
   "outputs": [
    {
     "data": {
      "text/latex": [
       "$\\displaystyle - \\frac{L^{2} p_{0} \\log{\\left(- L \\right)}}{2 A_{0} E \\log{\\left(3 \\right)}} + \\frac{L^{2} p_{0} \\log{\\left(- 3 L + 2 x \\right)}}{2 A_{0} E \\log{\\left(3 \\right)}} - \\frac{L^{2} p_{0}}{2 A_{0} E} + \\frac{3 L p_{0} x}{8 A_{0} E} + \\frac{p_{0} x^{2}}{8 A_{0} E}$"
      ],
      "text/plain": [
       "-L**2*p0*log(-L)/(2*A0*E*log(3)) + L**2*p0*log(-3*L + 2*x)/(2*A0*E*log(3)) - L**2*p0/(2*A0*E) + 3*L*p0*x/(8*A0*E) + p0*x**2/(8*A0*E)"
      ]
     },
     "execution_count": 9,
     "metadata": {},
     "output_type": "execute_result"
    }
   ],
   "source": [
    "U = u.subs([(C1, c[0]),(C2,c[1])])\n",
    "U"
   ]
  },
  {
   "cell_type": "code",
   "execution_count": 11,
   "metadata": {},
   "outputs": [
    {
     "data": {
      "text/latex": [
       "$\\displaystyle \\frac{- \\frac{L p_{0}}{\\log{\\left(3 \\right)}} + \\frac{9 L p_{0}}{8} - \\frac{p_{0} x^{2}}{2 L}}{A_{0} E \\left(3 - \\frac{2 x}{L}\\right)}$"
      ],
      "text/plain": [
       "(-L*p0/log(3) + 9*L*p0/8 - p0*x**2/(2*L))/(A0*E*(3 - 2*x/L))"
      ]
     },
     "execution_count": 11,
     "metadata": {},
     "output_type": "execute_result"
    }
   ],
   "source": [
    "# Deformação\n",
    "t = epsilon.subs(C1,c[0])\n",
    "t\n"
   ]
  }
 ],
 "metadata": {
  "interpreter": {
   "hash": "8003219c8c57211ee3be347d121ba14ebad7276cdae3d94be72d9e4e17f9edd5"
  },
  "kernelspec": {
   "display_name": "Python 3.8.8 64-bit ('base': conda)",
   "name": "python3"
  },
  "language_info": {
   "codemirror_mode": {
    "name": "ipython",
    "version": 3
   },
   "file_extension": ".py",
   "mimetype": "text/x-python",
   "name": "python",
   "nbconvert_exporter": "python",
   "pygments_lexer": "ipython3",
   "version": "3.8.8"
  },
  "orig_nbformat": 4
 },
 "nbformat": 4,
 "nbformat_minor": 2
}
